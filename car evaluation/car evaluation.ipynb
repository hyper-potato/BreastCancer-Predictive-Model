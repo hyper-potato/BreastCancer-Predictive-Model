{
 "cells": [
  {
   "cell_type": "markdown",
   "metadata": {},
   "source": [
    "# Predictive models on categorical varibles \n",
    "\n",
    "Among the basic classification techniques that you are familiar with (i.e., decision tree, k-NN, logistic regression, NB, SVM) use all that would be applicable to this dataset to predict the evaluation of the cars based on their characteristics. Explore how well these techniques perform for several different parameter values. Present a brief overview of your predictive modeling process, explorations, and discuss your results. Present your final model (i.e., the best predictive model that you were able to come up with), and discuss its performance in a comprehensive manner (overall accuracy; per-class performance, i.e., whether this model predicts all classes equally well, or if there some classes for which it does much better than others; etc.)"
   ]
  },
  {
   "cell_type": "markdown",
   "metadata": {},
   "source": [
    "# Set Up"
   ]
  },
  {
   "cell_type": "markdown",
   "metadata": {},
   "source": [
    "## Data Exploration"
   ]
  },
  {
   "cell_type": "code",
   "execution_count": 24,
   "metadata": {},
   "outputs": [],
   "source": [
    "#Importing the basic libraries\n",
    "import numpy as np\n",
    "import pandas as pd\n",
    "import matplotlib.pyplot as plt\n",
    "plt.style.use('ggplot')\n",
    "import plotly.offline as py\n",
    "import seaborn as sns\n",
    "\n",
    "%matplotlib inline\n",
    "#%config InlineBackend.figure_format = 'svg'\n",
    "\n",
    "from warnings import simplefilter\n",
    "# ignore all future warnings\n",
    "simplefilter(action='ignore', category=FutureWarning)"
   ]
  },
  {
   "cell_type": "code",
   "execution_count": 4,
   "metadata": {},
   "outputs": [],
   "source": [
    "cars = pd.read_csv('car.data', names =  ['buying', 'maint', 'doors','capacity','lug_boot','safety','class'])"
   ]
  },
  {
   "cell_type": "code",
   "execution_count": 5,
   "metadata": {},
   "outputs": [
    {
     "data": {
      "text/html": [
       "<div>\n",
       "<style scoped>\n",
       "    .dataframe tbody tr th:only-of-type {\n",
       "        vertical-align: middle;\n",
       "    }\n",
       "\n",
       "    .dataframe tbody tr th {\n",
       "        vertical-align: top;\n",
       "    }\n",
       "\n",
       "    .dataframe thead th {\n",
       "        text-align: right;\n",
       "    }\n",
       "</style>\n",
       "<table border=\"1\" class=\"dataframe\">\n",
       "  <thead>\n",
       "    <tr style=\"text-align: right;\">\n",
       "      <th></th>\n",
       "      <th>buying</th>\n",
       "      <th>maint</th>\n",
       "      <th>doors</th>\n",
       "      <th>capacity</th>\n",
       "      <th>lug_boot</th>\n",
       "      <th>safety</th>\n",
       "      <th>class</th>\n",
       "    </tr>\n",
       "  </thead>\n",
       "  <tbody>\n",
       "    <tr>\n",
       "      <th>975</th>\n",
       "      <td>med</td>\n",
       "      <td>high</td>\n",
       "      <td>2</td>\n",
       "      <td>2</td>\n",
       "      <td>med</td>\n",
       "      <td>low</td>\n",
       "      <td>unacc</td>\n",
       "    </tr>\n",
       "    <tr>\n",
       "      <th>277</th>\n",
       "      <td>vhigh</td>\n",
       "      <td>med</td>\n",
       "      <td>4</td>\n",
       "      <td>2</td>\n",
       "      <td>big</td>\n",
       "      <td>med</td>\n",
       "      <td>unacc</td>\n",
       "    </tr>\n",
       "    <tr>\n",
       "      <th>1219</th>\n",
       "      <td>med</td>\n",
       "      <td>low</td>\n",
       "      <td>3</td>\n",
       "      <td>2</td>\n",
       "      <td>med</td>\n",
       "      <td>med</td>\n",
       "      <td>unacc</td>\n",
       "    </tr>\n",
       "    <tr>\n",
       "      <th>1316</th>\n",
       "      <td>low</td>\n",
       "      <td>vhigh</td>\n",
       "      <td>2</td>\n",
       "      <td>more</td>\n",
       "      <td>small</td>\n",
       "      <td>high</td>\n",
       "      <td>unacc</td>\n",
       "    </tr>\n",
       "    <tr>\n",
       "      <th>249</th>\n",
       "      <td>vhigh</td>\n",
       "      <td>med</td>\n",
       "      <td>3</td>\n",
       "      <td>2</td>\n",
       "      <td>big</td>\n",
       "      <td>low</td>\n",
       "      <td>unacc</td>\n",
       "    </tr>\n",
       "    <tr>\n",
       "      <th>1712</th>\n",
       "      <td>low</td>\n",
       "      <td>low</td>\n",
       "      <td>5more</td>\n",
       "      <td>4</td>\n",
       "      <td>small</td>\n",
       "      <td>high</td>\n",
       "      <td>good</td>\n",
       "    </tr>\n",
       "    <tr>\n",
       "      <th>1676</th>\n",
       "      <td>low</td>\n",
       "      <td>low</td>\n",
       "      <td>4</td>\n",
       "      <td>2</td>\n",
       "      <td>small</td>\n",
       "      <td>high</td>\n",
       "      <td>unacc</td>\n",
       "    </tr>\n",
       "    <tr>\n",
       "      <th>1374</th>\n",
       "      <td>low</td>\n",
       "      <td>vhigh</td>\n",
       "      <td>4</td>\n",
       "      <td>more</td>\n",
       "      <td>big</td>\n",
       "      <td>low</td>\n",
       "      <td>unacc</td>\n",
       "    </tr>\n",
       "    <tr>\n",
       "      <th>1117</th>\n",
       "      <td>med</td>\n",
       "      <td>med</td>\n",
       "      <td>3</td>\n",
       "      <td>4</td>\n",
       "      <td>small</td>\n",
       "      <td>med</td>\n",
       "      <td>acc</td>\n",
       "    </tr>\n",
       "    <tr>\n",
       "      <th>541</th>\n",
       "      <td>high</td>\n",
       "      <td>high</td>\n",
       "      <td>2</td>\n",
       "      <td>2</td>\n",
       "      <td>small</td>\n",
       "      <td>med</td>\n",
       "      <td>unacc</td>\n",
       "    </tr>\n",
       "  </tbody>\n",
       "</table>\n",
       "</div>"
      ],
      "text/plain": [
       "     buying  maint  doors capacity lug_boot safety  class\n",
       "975     med   high      2        2      med    low  unacc\n",
       "277   vhigh    med      4        2      big    med  unacc\n",
       "1219    med    low      3        2      med    med  unacc\n",
       "1316    low  vhigh      2     more    small   high  unacc\n",
       "249   vhigh    med      3        2      big    low  unacc\n",
       "1712    low    low  5more        4    small   high   good\n",
       "1676    low    low      4        2    small   high  unacc\n",
       "1374    low  vhigh      4     more      big    low  unacc\n",
       "1117    med    med      3        4    small    med    acc\n",
       "541    high   high      2        2    small    med  unacc"
      ]
     },
     "execution_count": 5,
     "metadata": {},
     "output_type": "execute_result"
    }
   ],
   "source": [
    "#Taking an overview of data\n",
    "cars.sample(10)"
   ]
  },
  {
   "cell_type": "code",
   "execution_count": 6,
   "metadata": {},
   "outputs": [],
   "source": [
    "cars.doors.replace(('5more'),('5'),inplace=True)\n",
    "cars.capacity.replace(('more'),('5'),inplace=True)"
   ]
  },
  {
   "cell_type": "code",
   "execution_count": 7,
   "metadata": {},
   "outputs": [
    {
     "data": {
      "text/html": [
       "<div>\n",
       "<style scoped>\n",
       "    .dataframe tbody tr th:only-of-type {\n",
       "        vertical-align: middle;\n",
       "    }\n",
       "\n",
       "    .dataframe tbody tr th {\n",
       "        vertical-align: top;\n",
       "    }\n",
       "\n",
       "    .dataframe thead th {\n",
       "        text-align: right;\n",
       "    }\n",
       "</style>\n",
       "<table border=\"1\" class=\"dataframe\">\n",
       "  <thead>\n",
       "    <tr style=\"text-align: right;\">\n",
       "      <th></th>\n",
       "      <th>buying</th>\n",
       "      <th>maint</th>\n",
       "      <th>doors</th>\n",
       "      <th>capacity</th>\n",
       "      <th>lug_boot</th>\n",
       "      <th>safety</th>\n",
       "      <th>class</th>\n",
       "    </tr>\n",
       "  </thead>\n",
       "  <tbody>\n",
       "    <tr>\n",
       "      <th>count</th>\n",
       "      <td>1728</td>\n",
       "      <td>1728</td>\n",
       "      <td>1728</td>\n",
       "      <td>1728</td>\n",
       "      <td>1728</td>\n",
       "      <td>1728</td>\n",
       "      <td>1728</td>\n",
       "    </tr>\n",
       "    <tr>\n",
       "      <th>unique</th>\n",
       "      <td>4</td>\n",
       "      <td>4</td>\n",
       "      <td>4</td>\n",
       "      <td>3</td>\n",
       "      <td>3</td>\n",
       "      <td>3</td>\n",
       "      <td>4</td>\n",
       "    </tr>\n",
       "    <tr>\n",
       "      <th>top</th>\n",
       "      <td>med</td>\n",
       "      <td>med</td>\n",
       "      <td>2</td>\n",
       "      <td>2</td>\n",
       "      <td>med</td>\n",
       "      <td>med</td>\n",
       "      <td>unacc</td>\n",
       "    </tr>\n",
       "    <tr>\n",
       "      <th>freq</th>\n",
       "      <td>432</td>\n",
       "      <td>432</td>\n",
       "      <td>432</td>\n",
       "      <td>576</td>\n",
       "      <td>576</td>\n",
       "      <td>576</td>\n",
       "      <td>1210</td>\n",
       "    </tr>\n",
       "  </tbody>\n",
       "</table>\n",
       "</div>"
      ],
      "text/plain": [
       "       buying maint doors capacity lug_boot safety  class\n",
       "count    1728  1728  1728     1728     1728   1728   1728\n",
       "unique      4     4     4        3        3      3      4\n",
       "top       med   med     2        2      med    med  unacc\n",
       "freq      432   432   432      576      576    576   1210"
      ]
     },
     "execution_count": 7,
     "metadata": {},
     "output_type": "execute_result"
    }
   ],
   "source": [
    "cars.describe()"
   ]
  },
  {
   "cell_type": "markdown",
   "metadata": {},
   "source": [
    "The count for every feature is the same as the number of rows, which indicates no missing values.  \n",
    "Yay!  \n",
    "Since we are dealing with categorical data, we are shown the distinct values in the unique column."
   ]
  },
  {
   "cell_type": "markdown",
   "metadata": {},
   "source": [
    "The distribution of the acceptability of the cars."
   ]
  },
  {
   "cell_type": "code",
   "execution_count": 8,
   "metadata": {},
   "outputs": [
    {
     "data": {
      "text/plain": [
       "unacc    1210\n",
       "acc       384\n",
       "good       69\n",
       "vgood      65\n",
       "Name: class, dtype: int64"
      ]
     },
     "execution_count": 8,
     "metadata": {},
     "output_type": "execute_result"
    }
   ],
   "source": [
    "#Lets find out the number of cars in each evaluation category\n",
    "cars['class'].value_counts()"
   ]
  },
  {
   "cell_type": "code",
   "execution_count": 9,
   "metadata": {},
   "outputs": [
    {
     "data": {
      "text/plain": [
       "<matplotlib.axes._subplots.AxesSubplot at 0x1220a82d0>"
      ]
     },
     "execution_count": 9,
     "metadata": {},
     "output_type": "execute_result"
    },
    {
     "data": {
      "image/png": "[encoded data removed]",
      "text/plain": [
       "<Figure size 432x288 with 1 Axes>"
      ]
     },
     "metadata": {
      "needs_background": "light"
     },
     "output_type": "display_data"
    }
   ],
   "source": [
    "sns.countplot(cars['class'])"
   ]
  },
  {
   "cell_type": "markdown",
   "metadata": {},
   "source": [
    "As we can see, our target varible is highly skewed "
   ]
  },
  {
   "cell_type": "markdown",
   "metadata": {},
   "source": [
    "## Initial Feature Exploration"
   ]
  },
  {
   "cell_type": "markdown",
   "metadata": {},
   "source": [
    "So we need to predict the acceptability of the car given the 6 features. Let’s try to find the relationship between each feature variable with the target variable. I’ll use pandas crosstab to make a table showing the relationship and Plotly to plot an interactive graph for the same."
   ]
  },
  {
   "cell_type": "code",
   "execution_count": 10,
   "metadata": {},
   "outputs": [],
   "source": [
    "buy = pd.crosstab(cars['buying'], cars['class'])\n",
    "maint = pd.crosstab(cars['maint'], cars['class'])\n",
    "drs = pd.crosstab(cars['doors'], cars['class'])\n",
    "prsn = pd.crosstab(cars['capacity'], cars['class'])\n",
    "lb = pd.crosstab(cars['lug_boot'], cars['class'])\n",
    "sfty = pd.crosstab(cars['safety'], cars['class'])"
   ]
  },
  {
   "cell_type": "code",
   "execution_count": 11,
   "metadata": {},
   "outputs": [
    {
     "data": {
      "text/html": [
       "<div>\n",
       "<style scoped>\n",
       "    .dataframe tbody tr th:only-of-type {\n",
       "        vertical-align: middle;\n",
       "    }\n",
       "\n",
       "    .dataframe tbody tr th {\n",
       "        vertical-align: top;\n",
       "    }\n",
       "\n",
       "    .dataframe thead th {\n",
       "        text-align: right;\n",
       "    }\n",
       "</style>\n",
       "<table border=\"1\" class=\"dataframe\">\n",
       "  <thead>\n",
       "    <tr style=\"text-align: right;\">\n",
       "      <th>class</th>\n",
       "      <th>acc</th>\n",
       "      <th>good</th>\n",
       "      <th>unacc</th>\n",
       "      <th>vgood</th>\n",
       "    </tr>\n",
       "    <tr>\n",
       "      <th>buying</th>\n",
       "      <th></th>\n",
       "      <th></th>\n",
       "      <th></th>\n",
       "      <th></th>\n",
       "    </tr>\n",
       "  </thead>\n",
       "  <tbody>\n",
       "    <tr>\n",
       "      <th>high</th>\n",
       "      <td>108</td>\n",
       "      <td>0</td>\n",
       "      <td>324</td>\n",
       "      <td>0</td>\n",
       "    </tr>\n",
       "    <tr>\n",
       "      <th>low</th>\n",
       "      <td>89</td>\n",
       "      <td>46</td>\n",
       "      <td>258</td>\n",
       "      <td>39</td>\n",
       "    </tr>\n",
       "    <tr>\n",
       "      <th>med</th>\n",
       "      <td>115</td>\n",
       "      <td>23</td>\n",
       "      <td>268</td>\n",
       "      <td>26</td>\n",
       "    </tr>\n",
       "    <tr>\n",
       "      <th>vhigh</th>\n",
       "      <td>72</td>\n",
       "      <td>0</td>\n",
       "      <td>360</td>\n",
       "      <td>0</td>\n",
       "    </tr>\n",
       "  </tbody>\n",
       "</table>\n",
       "</div>"
      ],
      "text/plain": [
       "class   acc  good  unacc  vgood\n",
       "buying                         \n",
       "high    108     0    324      0\n",
       "low      89    46    258     39\n",
       "med     115    23    268     26\n",
       "vhigh    72     0    360      0"
      ]
     },
     "execution_count": 11,
     "metadata": {},
     "output_type": "execute_result"
    }
   ],
   "source": [
    "buy"
   ]
  },
  {
   "cell_type": "code",
   "execution_count": 12,
   "metadata": {},
   "outputs": [
    {
     "data": {
      "text/plain": [
       "<matplotlib.axes._subplots.AxesSubplot at 0x12556c450>"
      ]
     },
     "execution_count": 12,
     "metadata": {},
     "output_type": "execute_result"
    },
    {
     "data": {
      "image/png": "[encoded data removed]",
      "text/plain": [
       "<Figure size 432x288 with 1 Axes>"
      ]
     },
     "metadata": {
      "needs_background": "light"
     },
     "output_type": "display_data"
    }
   ],
   "source": [
    "buy.plot.bar(stacked=True)"
   ]
  },
  {
   "cell_type": "code",
   "execution_count": 13,
   "metadata": {},
   "outputs": [
    {
     "data": {
      "text/plain": [
       "<matplotlib.axes._subplots.AxesSubplot at 0x1255cab90>"
      ]
     },
     "execution_count": 13,
     "metadata": {},
     "output_type": "execute_result"
    },
    {
     "data": {
      "image/png": "[encoded data removed]",
      "text/plain": [
       "<Figure size 432x288 with 1 Axes>"
      ]
     },
     "metadata": {
      "needs_background": "light"
     },
     "output_type": "display_data"
    }
   ],
   "source": [
    "maint.plot.bar(stacked=True)"
   ]
  },
  {
   "cell_type": "code",
   "execution_count": 14,
   "metadata": {},
   "outputs": [
    {
     "data": {
      "text/plain": [
       "<matplotlib.axes._subplots.AxesSubplot at 0x1256c6710>"
      ]
     },
     "execution_count": 14,
     "metadata": {},
     "output_type": "execute_result"
    },
    {
     "data": {
      "image/png": "[encoded data removed]",
      "text/plain": [
       "<Figure size 432x288 with 1 Axes>"
      ]
     },
     "metadata": {
      "needs_background": "light"
     },
     "output_type": "display_data"
    }
   ],
   "source": [
    "drs.plot(kind='bar',stacked=True)"
   ]
  },
  {
   "cell_type": "code",
   "execution_count": 15,
   "metadata": {},
   "outputs": [
    {
     "data": {
      "text/plain": [
       "<matplotlib.axes._subplots.AxesSubplot at 0x1257188d0>"
      ]
     },
     "execution_count": 15,
     "metadata": {},
     "output_type": "execute_result"
    },
    {
     "data": {
      "image/png": "[encoded data removed]",
      "text/plain": [
       "<Figure size 432x288 with 1 Axes>"
      ]
     },
     "metadata": {
      "needs_background": "light"
     },
     "output_type": "display_data"
    }
   ],
   "source": [
    "sfty.plot.bar(stacked=True)"
   ]
  },
  {
   "cell_type": "markdown",
   "metadata": {},
   "source": [
    "## Encoding and Data Spliting"
   ]
  },
  {
   "cell_type": "markdown",
   "metadata": {},
   "source": [
    "We need to encode the categorical data \n",
    "There are two options, either we use label encoder or one hot encoder.\n",
    "Intuitively, predictors' value in the dataset such as 'low, med, high' introduce an underlying linear order itself, therefore, it's alright to transform data with ordinal encoder."
   ]
  },
  {
   "cell_type": "code",
   "execution_count": 16,
   "metadata": {},
   "outputs": [],
   "source": [
    "cars1 = cars.copy()\n",
    "cars1['class'].replace(('unacc', 'acc', 'good', 'vgood'), (1, 2, 3,4), inplace = True)\n",
    "cars1['buying'].replace(('vhigh', 'high', 'med', 'low'), (4,3, 2, 1), inplace = True)\n",
    "cars1['maint'].replace(('vhigh', 'high', 'med', 'low'), (4,3, 2, 1), inplace = True)\n",
    "cars1['lug_boot'].replace(('small','med','big'),(1,2,3),inplace=True)\n",
    "cars1['safety'].replace(('low','med','high'),(1,2,3),inplace=True)"
   ]
  },
  {
   "cell_type": "code",
   "execution_count": 17,
   "metadata": {},
   "outputs": [
    {
     "name": "stdout",
     "output_type": "stream",
     "text": [
      "Feature Correlation:\n",
      "\n"
     ]
    },
    {
     "data": {
      "image/png": "[encoded data removed]",
      "text/plain": [
       "<Figure size 648x504 with 2 Axes>"
      ]
     },
     "metadata": {
      "needs_background": "light"
     },
     "output_type": "display_data"
    }
   ],
   "source": [
    "print(\"Feature Correlation:\\n\")\n",
    "\n",
    "fig, ax = plt.subplots(figsize=(9,7))\n",
    "ax.set_ylim(6.0, 0)\n",
    "\n",
    "ax=sns.heatmap(cars1.corr(),center=0,vmax=.3,cmap=\"YlGnBu\",\n",
    "            square=True, linewidths=.5, annot=True)"
   ]
  },
  {
   "cell_type": "markdown",
   "metadata": {},
   "source": [
    "Ignoring the diagonal values, it can be seen that most of the columns shows very weak correlation with 'class'.\n",
    "'safety' column is having a correlation with 'class'."
   ]
  },
  {
   "cell_type": "code",
   "execution_count": 18,
   "metadata": {},
   "outputs": [],
   "source": [
    "#Dividing the dataframe into x features and y target variable\n",
    "X1 = cars1.drop(['class'],axis = 1)\n",
    "y1 = cars1['class']"
   ]
  },
  {
   "cell_type": "code",
   "execution_count": 19,
   "metadata": {},
   "outputs": [],
   "source": [
    "from sklearn.model_selection import train_test_split\n",
    "X1_train, X1_test, y1_train, y1_test = train_test_split(X1, y1, test_size=0.3, random_state=42)"
   ]
  },
  {
   "cell_type": "code",
   "execution_count": 20,
   "metadata": {},
   "outputs": [],
   "source": [
    "X3 = cars.drop(['class'],axis = 1)\n",
    "y3 = y1\n",
    "# Using pandas dummies function to encode categorical data\n",
    "\n",
    "X3 = pd.get_dummies(X3,columns= ['buying','capacity','doors','maint','lug_boot'], \n",
    "                    prefix_sep='_', drop_first=True)\n",
    "X3['safety'].replace(('low','med','high'),(0,1,2),inplace=True)\n",
    "\n",
    "X3_train, X3_test, y3_train, y3_test = train_test_split(X3, y3, test_size = 0.3, random_state = 41)"
   ]
  },
  {
   "cell_type": "markdown",
   "metadata": {},
   "source": [
    "# Model Building"
   ]
  },
  {
   "cell_type": "code",
   "execution_count": 22,
   "metadata": {},
   "outputs": [],
   "source": [
    "import warnings\n",
    "import sklearn.exceptions\n",
    "warnings.filterwarnings(\"ignore\", category=sklearn.exceptions.UndefinedMetricWarning)"
   ]
  },
  {
   "cell_type": "markdown",
   "metadata": {
    "toc-hr-collapsed": true
   },
   "source": [
    "## Logistic Regression"
   ]
  },
  {
   "cell_type": "markdown",
   "metadata": {},
   "source": [
    "### Tuning parameter - GridSearchCV"
   ]
  },
  {
   "cell_type": "code",
   "execution_count": 25,
   "metadata": {},
   "outputs": [
    {
     "name": "stdout",
     "output_type": "stream",
     "text": [
      "# Tuning hyper-parameters for precision\n",
      "\n",
      "Best parameters set found on development set:\n",
      "\n",
      "{'C': 19.306977288832496}\n",
      "\n",
      "Grid scores on development set:\n",
      "\n",
      "\n",
      "Detailed classification report:\n",
      "\n",
      "The model is trained on the full development set.\n",
      "\n",
      "The scores are computed on the full evaluation set.\n",
      "\n",
      "              precision    recall  f1-score   support\n",
      "\n",
      "           1       0.87      0.95      0.91       358\n",
      "           2       0.62      0.58      0.60       118\n",
      "           3       0.50      0.21      0.30        19\n",
      "           4       0.83      0.42      0.56        24\n",
      "\n",
      "    accuracy                           0.81       519\n",
      "   macro avg       0.71      0.54      0.59       519\n",
      "weighted avg       0.80      0.81      0.80       519\n",
      "\n",
      "# Tuning hyper-parameters for recall\n",
      "\n",
      "Best parameters set found on development set:\n",
      "\n",
      "{'C': 19.306977288832496}\n",
      "\n",
      "Grid scores on development set:\n",
      "\n",
      "\n",
      "Detailed classification report:\n",
      "\n",
      "The model is trained on the full development set.\n",
      "\n",
      "The scores are computed on the full evaluation set.\n",
      "\n",
      "              precision    recall  f1-score   support\n",
      "\n",
      "           1       0.87      0.95      0.91       358\n",
      "           2       0.62      0.58      0.60       118\n",
      "           3       0.50      0.21      0.30        19\n",
      "           4       0.83      0.42      0.56        24\n",
      "\n",
      "    accuracy                           0.81       519\n",
      "   macro avg       0.71      0.54      0.59       519\n",
      "weighted avg       0.80      0.81      0.80       519\n",
      "\n"
     ]
    }
   ],
   "source": [
    "from sklearn.metrics import classification_report\n",
    "from sklearn.model_selection import GridSearchCV\n",
    "\n",
    "from sklearn.linear_model import LogisticRegression\n",
    "\n",
    "# Set the parameters by cross-validation\n",
    "parameters = [{'C': np.logspace(-5, 6, 15)}]\n",
    "\n",
    "logistic = LogisticRegression(solver='newton-cg', penalty='l2') # when 'car class' is not binary\n",
    "\n",
    "scores = ['precision', 'recall']\n",
    "\n",
    "for score in scores:\n",
    "    print(\"# Tuning hyper-parameters for %s\\n\" % score)\n",
    "\n",
    "    lg_gscv = GridSearchCV(logistic, parameters, cv=5, scoring='%s_micro' % score)\n",
    "    lg_gscv.fit(X1_train, y1_train)\n",
    "\n",
    "    print(\"Best parameters set found on development set:\\n\")\n",
    "\n",
    "    print(lg_gscv.best_params_)\n",
    "    print(\"\\nGrid scores on development set:\\n\")\n",
    "\n",
    "    means = lg_gscv.cv_results_['mean_test_score']\n",
    "    stds = lg_gscv.cv_results_['std_test_score']\n",
    " #   for mean, std, params in zip(means, stds, svc_gscv.cv_results_['params']):\n",
    "        #print(\"%0.3f (+/-%0.03f) for %r\" % (mean, std * 2, params))\n",
    "\n",
    "    \n",
    "    print(\"\\nDetailed classification report:\")\n",
    "    print(\"\\nThe model is trained on the full development set.\")\n",
    "    print(\"\\nThe scores are computed on the full evaluation set.\\n\")\n",
    "\n",
    "    y_true, y_pred = y1_test, lg_gscv.predict(X1_test)\n",
    "    print(classification_report(y_true, y_pred))"
   ]
  },
  {
   "cell_type": "code",
   "execution_count": 28,
   "metadata": {},
   "outputs": [
    {
     "name": "stdout",
     "output_type": "stream",
     "text": [
      "Cross-Validation Score :0.778\n"
     ]
    }
   ],
   "source": [
    "from sklearn.model_selection import cross_val_score, validation_curve\n",
    "\n",
    "print(\"Cross-Validation Score :{0:.3f}\".format(np.mean(cross_val_score(lg_gscv.best_estimator_, X1, y1, cv=5))))"
   ]
  },
  {
   "cell_type": "markdown",
   "metadata": {},
   "source": [
    "For C value, use a wider range of np.logspace(-5, 6, 15) to get a rough value, which ends up with 19 in this case. Then zoom in to a narrower range of C = np.linspace(20,40, num=15) to find a better value. Let's look at the validation curve to find a final C in the model."
   ]
  },
  {
   "cell_type": "markdown",
   "metadata": {},
   "source": [
    "### Tuning parameter - Validation curve"
   ]
  },
  {
   "cell_type": "code",
   "execution_count": 30,
   "metadata": {},
   "outputs": [
    {
     "data": {
      "text/plain": [
       "Text(0.5, 1.0, 'validation_curve with different C')"
      ]
     },
     "execution_count": 30,
     "metadata": {},
     "output_type": "execute_result"
    },
    {
     "data": {
      "image/png": "[encoded data removed]",
      "text/plain": [
       "<Figure size 576x432 with 1 Axes>"
      ]
     },
     "metadata": {
      "needs_background": "light"
     },
     "output_type": "display_data"
    }
   ],
   "source": [
    "from sklearn.model_selection import cross_val_score, validation_curve\n",
    "\n",
    "C=np.linspace(1,30, num=30)\n",
    "curve = validation_curve(logistic,X1_train,y1_train, cv=5,param_name='C',param_range=C)\n",
    "\n",
    "n=len(C)\n",
    "train_score=[curve[0][i].mean() for i in range (0,n)]\n",
    "test_score=[curve[1][i].mean() for i in range (0,n)]\n",
    "\n",
    "fig=plt.figure(figsize=(8,6))\n",
    "#plt.ylim(.85,.9)\n",
    "plt.plot(C,train_score,color='blue', label='training')\n",
    "plt.plot(C,test_score,color='orange', label='testing')\n",
    "plt.legend()\n",
    "plt.xticks=C\n",
    "plt.title('validation_curve with different C')"
   ]
  },
  {
   "cell_type": "markdown",
   "metadata": {},
   "source": [
    "### Fit the model"
   ]
  },
  {
   "cell_type": "code",
   "execution_count": 38,
   "metadata": {},
   "outputs": [
    {
     "name": "stdout",
     "output_type": "stream",
     "text": [
      "Training Accuracy:  0.8354011579818031\n",
      "Testing Accuracy:  0.8111753371868978\n",
      "Cross-Validation Score :0.778\n",
      "[[340  14   2   2]\n",
      " [ 48  68   2   0]\n",
      " [  1  15   3   0]\n",
      " [  0  14   0  10]]\n",
      "              precision    recall  f1-score   support\n",
      "\n",
      "           1       0.87      0.95      0.91       358\n",
      "           2       0.61      0.58      0.59       118\n",
      "           3       0.43      0.16      0.23        19\n",
      "           4       0.83      0.42      0.56        24\n",
      "\n",
      "    accuracy                           0.81       519\n",
      "   macro avg       0.69      0.53      0.57       519\n",
      "weighted avg       0.80      0.81      0.80       519\n",
      "\n"
     ]
    }
   ],
   "source": [
    "from sklearn.metrics import precision_recall_fscore_support, f1_score,confusion_matrix\n",
    "# Multi-class\n",
    "lgc=LogisticRegression(solver='newton-cg',C=15)\n",
    "lgc.fit(X1_train,y1_train)\n",
    "y1_pred = lgc.predict(X1_test)\n",
    "\n",
    "# binary class\n",
    "#lg_bin=LogisticRegression(solver='liblinear',C=15)\n",
    "#lg_bin.fit(X1_train,y1_train)\n",
    "\n",
    "f1_LR = f1_score(y1_test,y1_pred, average='micro')\n",
    "\n",
    "print(\"Training Accuracy: \",lgc.score(X1_train, y1_train))\n",
    "print(\"Testing Accuracy: \", lgc.score(X1_test, y1_test))\n",
    "print(\"Cross-Validation Score :{0:.3f}\".format(np.mean(cross_val_score(lgc, X1, y1, cv=5))))\n",
    "\n",
    "cm = confusion_matrix(y1_test, y1_pred)\n",
    "print(cm)\n",
    "print(classification_report(y1_test,y1_pred)) "
   ]
  },
  {
   "cell_type": "code",
   "execution_count": 39,
   "metadata": {},
   "outputs": [
    {
     "data": {
      "image/png": "[encoded data removed]",
      "text/plain": [
       "<Figure size 432x288 with 1 Axes>"
      ]
     },
     "metadata": {
      "needs_background": "light"
     },
     "output_type": "display_data"
    }
   ],
   "source": [
    "from sklearn.model_selection import learning_curve\n",
    " \n",
    "plt.figure()\n",
    "plt.xlabel(\"Training examples\")\n",
    "plt.ylabel(\"Score\")\n",
    "train_sizes, train_scores, test_scores = learning_curve(\n",
    "        lgc, X1_train, y1_train, cv=5,n_jobs=1)\n",
    "\n",
    "train_scores_mean = np.mean(train_scores, axis=1)\n",
    "train_scores_std = np.std(train_scores, axis=1)\n",
    "test_scores_mean = np.mean(test_scores, axis=1)\n",
    "test_scores_std = np.std(test_scores, axis=1)\n",
    "\n",
    "plt.grid()\n",
    "plt.title(\"Learning Curves (Logistic regression, C=15)\")\n",
    "plt.fill_between(train_sizes, train_scores_mean - train_scores_std,\n",
    "                     train_scores_mean + train_scores_std, alpha=0.1,\n",
    "                     color=\"r\")\n",
    "plt.fill_between(train_sizes, test_scores_mean - test_scores_std,\n",
    "                     test_scores_mean + test_scores_std, alpha=0.1, color=\"g\")\n",
    "plt.plot(train_sizes, train_scores_mean, 'o-', color=\"r\",label=\"Training score\")\n",
    "plt.plot(train_sizes, test_scores_mean, 'o-', color=\"g\", label=\"Cross-validation score\")\n",
    "\n",
    "plt.legend(loc=\"best\")\n",
    "\n",
    "\n",
    "plt.show()"
   ]
  },
  {
   "cell_type": "markdown",
   "metadata": {
    "toc-hr-collapsed": true
   },
   "source": [
    "## K-NN"
   ]
  },
  {
   "cell_type": "markdown",
   "metadata": {},
   "source": [
    "### Hypertuning using GridSearchCV"
   ]
  },
  {
   "cell_type": "code",
   "execution_count": 40,
   "metadata": {},
   "outputs": [
    {
     "name": "stdout",
     "output_type": "stream",
     "text": [
      "# Tuning hyper-parameters for precision\n",
      "\n",
      "Best parameters set found on development set:\n",
      "\n",
      "{'n_neighbors': 5}\n",
      "\n",
      "Grid scores on development set:\n",
      "\n",
      "\n",
      "Detailed classification report:\n",
      "\n",
      "The model is trained on the full development set.\n",
      "\n",
      "The scores are computed on the full evaluation set.\n",
      "\n",
      "              precision    recall  f1-score   support\n",
      "\n",
      "           1       0.97      0.99      0.98       358\n",
      "           2       0.90      0.88      0.89       118\n",
      "           3       0.78      0.74      0.76        19\n",
      "           4       0.89      0.67      0.76        24\n",
      "\n",
      "    accuracy                           0.94       519\n",
      "   macro avg       0.88      0.82      0.85       519\n",
      "weighted avg       0.94      0.94      0.94       519\n",
      "\n",
      "\n",
      "# Tuning hyper-parameters for recall\n",
      "\n",
      "Best parameters set found on development set:\n",
      "\n",
      "{'n_neighbors': 5}\n",
      "\n",
      "Grid scores on development set:\n",
      "\n",
      "\n",
      "Detailed classification report:\n",
      "\n",
      "The model is trained on the full development set.\n",
      "\n",
      "The scores are computed on the full evaluation set.\n",
      "\n",
      "              precision    recall  f1-score   support\n",
      "\n",
      "           1       0.97      0.99      0.98       358\n",
      "           2       0.90      0.88      0.89       118\n",
      "           3       0.78      0.74      0.76        19\n",
      "           4       0.89      0.67      0.76        24\n",
      "\n",
      "    accuracy                           0.94       519\n",
      "   macro avg       0.88      0.82      0.85       519\n",
      "weighted avg       0.94      0.94      0.94       519\n",
      "\n",
      "\n"
     ]
    }
   ],
   "source": [
    "from __future__ import print_function\n",
    "from sklearn.metrics import classification_report\n",
    "from sklearn.model_selection import GridSearchCV\n",
    "\n",
    "from sklearn.neighbors import KNeighborsClassifier\n",
    "\n",
    "\n",
    "#create a dictionary of all values we want to test for n_neighbors\n",
    "param_grid = {'n_neighbors': np.arange(1,15)}\n",
    "\n",
    "scores = ['precision', 'recall']\n",
    "\n",
    "for score in scores:\n",
    "    print(\"# Tuning hyper-parameters for %s\" % score)\n",
    "    print()\n",
    "\n",
    "    knn_gscv = GridSearchCV(KNeighborsClassifier(), param_grid, cv=5, scoring='%s_micro' % score)\n",
    "    knn_gscv.fit(X1_train, y1_train)\n",
    "\n",
    "    print(\"Best parameters set found on development set:\\n\")\n",
    "\n",
    "    print(knn_gscv.best_params_)\n",
    "    print(\"\\nGrid scores on development set:\\n\")\n",
    "\n",
    "    means = knn_gscv.cv_results_['mean_test_score']\n",
    "    stds = knn_gscv.cv_results_['std_test_score']\n",
    " #   for mean, std, params in zip(means, stds, svc_gscv.cv_results_['params']):\n",
    "        #print(\"%0.3f (+/-%0.03f) for %r\" % (mean, std * 2, params))\n",
    "\n",
    "    \n",
    "    print(\"\\nDetailed classification report:\")\n",
    "    print(\"\\nThe model is trained on the full development set.\")\n",
    "    print(\"\\nThe scores are computed on the full evaluation set.\\n\")\n",
    "\n",
    "    y_true, y_pred = y1_test, knn_gscv.predict(X1_test)\n",
    "    print(classification_report(y_true, y_pred))\n",
    "    print()"
   ]
  },
  {
   "cell_type": "code",
   "execution_count": 41,
   "metadata": {},
   "outputs": [
    {
     "data": {
      "text/plain": [
       "Text(0.5, 1.0, 'K value vs Accuracy Plot')"
      ]
     },
     "execution_count": 41,
     "metadata": {},
     "output_type": "execute_result"
    },
    {
     "data": {
      "image/png": "[encoded data removed]",
      "text/plain": [
       "<Figure size 576x360 with 1 Axes>"
      ]
     },
     "metadata": {
      "needs_background": "light"
     },
     "output_type": "display_data"
    }
   ],
   "source": [
    "# Plot K vs accuracy\n",
    "avg_score=[]\n",
    "for k in range(2,15):\n",
    "    knn=KNeighborsClassifier(n_neighbors=k)\n",
    "    score=cross_val_score(knn,X1_train,y1_train,cv=5,scoring='accuracy')\n",
    "    avg_score.append(score.mean())\n",
    "    \n",
    "plt.figure(figsize=(8,5))\n",
    "plt.plot(range(2,15),avg_score)\n",
    "plt.xlabel(\"n_neighbours\")\n",
    "plt.ylabel(\"accuracy\")\n",
    "plt.title(\"K value vs Accuracy Plot\")\n",
    "\n",
    "#plt.xticks(range(2,30,2))"
   ]
  },
  {
   "cell_type": "markdown",
   "metadata": {},
   "source": [
    "Both grid search cross validation and plot show that neighbor = 5 is a potential good hyperparameter."
   ]
  },
  {
   "cell_type": "markdown",
   "metadata": {},
   "source": [
    "### Fit the model"
   ]
  },
  {
   "cell_type": "code",
   "execution_count": 189,
   "metadata": {},
   "outputs": [
    {
     "name": "stdout",
     "output_type": "stream",
     "text": [
      "Training Accuracy:  0.9818031430934657\n",
      "Testing Accuracy:  0.9421965317919075\n",
      "Cross-Validation Score :0.813\n",
      "\n",
      " [[355   3   0   0]\n",
      " [ 12 104   1   1]\n",
      " [  0   4  14   1]\n",
      " [  0   5   3  16]] \n",
      "\n",
      "              precision    recall  f1-score   support\n",
      "\n",
      "           1       0.97      0.99      0.98       358\n",
      "           2       0.90      0.88      0.89       118\n",
      "           3       0.78      0.74      0.76        19\n",
      "           4       0.89      0.67      0.76        24\n",
      "\n",
      "    accuracy                           0.94       519\n",
      "   macro avg       0.88      0.82      0.85       519\n",
      "weighted avg       0.94      0.94      0.94       519\n",
      "\n"
     ]
    }
   ],
   "source": [
    "#Using KNN classifier, \n",
    "\n",
    "knn = KNeighborsClassifier(n_neighbors = 5, metric = 'minkowski', p = 2)\n",
    "knn.fit(X1_train, y1_train)\n",
    "\n",
    "y1_pred = knn.predict(X1_test)\n",
    "f1_KNN = f1_score(y1_test,y1_pred, average='micro')\n",
    "\n",
    "print(\"Training Accuracy: \",knn.score(X1_train, y1_train))\n",
    "print(\"Testing Accuracy: \", knn.score(X1_test, y1_test))\n",
    "print(\"Cross-Validation Score :{0:.3f}\".format(np.mean(cross_val_score(knn, X1, y1, cv=5))))\n",
    "cm = confusion_matrix(y1_test, y1_pred)\n",
    "print('\\n',cm,'\\n')\n",
    "print(classification_report(y1_test,y1_pred))"
   ]
  },
  {
   "cell_type": "markdown",
   "metadata": {
    "toc-hr-collapsed": true
   },
   "source": [
    "## SVM"
   ]
  },
  {
   "cell_type": "markdown",
   "metadata": {},
   "source": [
    "### Grid Search"
   ]
  },
  {
   "cell_type": "code",
   "execution_count": 190,
   "metadata": {},
   "outputs": [
    {
     "name": "stdout",
     "output_type": "stream",
     "text": [
      "# Tuning hyper-parameters for precision\n",
      "\n",
      "Best parameters set found on development set:\n",
      "\n",
      "{'C': 100, 'gamma': 0.1, 'kernel': 'rbf'}\n",
      "\n",
      "Grid scores on development set:\n",
      "\n",
      "\n",
      "Detailed classification report:\n",
      "\n",
      "The model is trained on the full development set.\n",
      "\n",
      "The scores are computed on the full evaluation set.\n",
      "\n",
      "              precision    recall  f1-score   support\n",
      "\n",
      "           1       0.99      0.99      0.99       358\n",
      "           2       0.96      0.95      0.95       118\n",
      "           3       0.85      0.89      0.87        19\n",
      "           4       0.92      0.92      0.92        24\n",
      "\n",
      "    accuracy                           0.97       519\n",
      "   macro avg       0.93      0.94      0.93       519\n",
      "weighted avg       0.98      0.97      0.98       519\n",
      "\n",
      "\n",
      "# Tuning hyper-parameters for recall\n",
      "\n",
      "Best parameters set found on development set:\n",
      "\n",
      "{'C': 100, 'gamma': 0.1, 'kernel': 'rbf'}\n",
      "\n",
      "Grid scores on development set:\n",
      "\n",
      "\n",
      "Detailed classification report:\n",
      "\n",
      "The model is trained on the full development set.\n",
      "\n",
      "The scores are computed on the full evaluation set.\n",
      "\n",
      "              precision    recall  f1-score   support\n",
      "\n",
      "           1       0.99      0.99      0.99       358\n",
      "           2       0.96      0.95      0.95       118\n",
      "           3       0.85      0.89      0.87        19\n",
      "           4       0.92      0.92      0.92        24\n",
      "\n",
      "    accuracy                           0.97       519\n",
      "   macro avg       0.93      0.94      0.93       519\n",
      "weighted avg       0.98      0.97      0.98       519\n",
      "\n",
      "\n"
     ]
    }
   ],
   "source": [
    "from sklearn.metrics import classification_report\n",
    "from sklearn.model_selection import GridSearchCV\n",
    "\n",
    "from sklearn.svm import SVC\n",
    "\n",
    "# Set the parameters by cross-validation\n",
    "parameters = [{'kernel': ['rbf'], \n",
    "               'gamma': 10. ** np.arange(-5, 4),\n",
    "               'C': [0.1, 1, 10, 100, 1000]},\n",
    "              {'kernel': ['linear'], \n",
    "               'C': [0.1,  1, 10, 100, 1000]}]\n",
    "\n",
    "scores = ['precision', 'recall']\n",
    "\n",
    "for score in scores:\n",
    "    print(\"# Tuning hyper-parameters for %s\" % score)\n",
    "    print()\n",
    "\n",
    "    svc_gscv = GridSearchCV(SVC(), parameters, cv=5, scoring='%s_micro' % score)\n",
    "    \n",
    "    svc_gscv.fit(X1_train, y1_train)\n",
    "\n",
    "    print(\"Best parameters set found on development set:\\n\")\n",
    "\n",
    "    print(svc_gscv.best_params_)\n",
    "    print(\"\\nGrid scores on development set:\\n\")\n",
    "\n",
    "    means = svc_gscv.cv_results_['mean_test_score']\n",
    "    stds = svc_gscv.cv_results_['std_test_score']\n",
    " #   for mean, std, params in zip(means, stds, svc_gscv.cv_results_['params']):\n",
    "        #print(\"%0.3f (+/-%0.03f) for %r\" % (mean, std * 2, params))\n",
    "\n",
    "    \n",
    "    print(\"\\nDetailed classification report:\")\n",
    "    print(\"\\nThe model is trained on the full development set.\")\n",
    "    print(\"\\nThe scores are computed on the full evaluation set.\\n\")\n",
    "\n",
    "    y_true, y_pred = y1_test, svc_gscv.predict(X1_test)\n",
    "    print(classification_report(y_true, y_pred))\n",
    "    print()\n"
   ]
  },
  {
   "cell_type": "markdown",
   "metadata": {},
   "source": [
    "### Fit rbf SVC Model"
   ]
  },
  {
   "cell_type": "markdown",
   "metadata": {},
   "source": [
    "From the GridSearch result, we find that with `kernel = 'rbf', C = 100, gamma = 0.1`, the model can achive best performance with respect to recall and accuracy. Since the unbalanced label of our target, I decide to go with recall, intuitively because we want to capture as many cars that will not be accepted as possible."
   ]
  },
  {
   "cell_type": "code",
   "execution_count": 44,
   "metadata": {},
   "outputs": [
    {
     "name": "stdout",
     "output_type": "stream",
     "text": [
      "Training Accuracy:  0.9983457402812241\n",
      "Testing Accuracy:  0.9749518304431599\n",
      "Cross-Validation Score :0.877\n",
      "\n",
      " [[355   3   0   0]\n",
      " [  3 112   2   1]\n",
      " [  0   1  17   1]\n",
      " [  0   1   1  22]] \n",
      "\n",
      "              precision    recall  f1-score   support\n",
      "\n",
      "           1       0.99      0.99      0.99       358\n",
      "           2       0.96      0.95      0.95       118\n",
      "           3       0.85      0.89      0.87        19\n",
      "           4       0.92      0.92      0.92        24\n",
      "\n",
      "    accuracy                           0.97       519\n",
      "   macro avg       0.93      0.94      0.93       519\n",
      "weighted avg       0.98      0.97      0.98       519\n",
      "\n"
     ]
    }
   ],
   "source": [
    "from sklearn.svm import SVC\n",
    "\n",
    "svc_rbf = SVC(kernel = 'rbf', C = 100, gamma = 0.1)\n",
    "svc_rbf.fit(X1_train,y1_train)\n",
    "y1_pred = svc_rbf.predict(X1_test)\n",
    "f1_SVC_rbf = f1_score(y1_test,y1_pred, average='micro')\n",
    "\n",
    "print(\"Training Accuracy: \",svc_rbf.score(X1_train, y1_train))\n",
    "print(\"Testing Accuracy: \", svc_rbf.score(X1_test, y1_test))\n",
    "print(\"Cross-Validation Score :{0:.3f}\".format(np.mean(cross_val_score(svc_rbf, X1, y1, cv=5))))\n",
    "\n",
    "cm = confusion_matrix(y1_test, y1_pred)\n",
    "print('\\n',cm,'\\n')\n",
    "print(classification_report(y1_test,y1_pred))"
   ]
  },
  {
   "cell_type": "markdown",
   "metadata": {},
   "source": [
    "### Learning curve"
   ]
  },
  {
   "cell_type": "code",
   "execution_count": 45,
   "metadata": {},
   "outputs": [
    {
     "data": {
      "image/png": "[encoded data removed]",
      "text/plain": [
       "<Figure size 432x288 with 1 Axes>"
      ]
     },
     "metadata": {
      "needs_background": "light"
     },
     "output_type": "display_data"
    }
   ],
   "source": [
    "from sklearn.model_selection import learning_curve\n",
    "from sklearn.svm import SVC\n",
    "  \n",
    "plt.figure()\n",
    "plt.xlabel(\"Training examples\")\n",
    "plt.ylabel(\"Score\")\n",
    "train_sizes, train_scores, test_scores = learning_curve(\n",
    "        svc_rbf, X1_train, y1_train, cv=5, n_jobs=1)\n",
    "\n",
    "train_scores_mean = np.mean(train_scores, axis=1)\n",
    "train_scores_std = np.std(train_scores, axis=1)\n",
    "test_scores_mean = np.mean(test_scores, axis=1)\n",
    "test_scores_std = np.std(test_scores, axis=1)\n",
    "\n",
    "plt.grid()\n",
    "plt.title(\"Learning Curves (SVM, RBF kernel,C=100, $\\gamma=0.1$)\")\n",
    "plt.fill_between(train_sizes, train_scores_mean - train_scores_std,\n",
    "                     train_scores_mean + train_scores_std, alpha=0.1,\n",
    "                     color=\"r\")\n",
    "plt.fill_between(train_sizes, test_scores_mean - test_scores_std,\n",
    "                     test_scores_mean + test_scores_std, alpha=0.1, color=\"g\")\n",
    "plt.plot(train_sizes, train_scores_mean, 'o-', color=\"r\",label=\"Training score\")\n",
    "plt.plot(train_sizes, test_scores_mean, 'o-', color=\"g\", label=\"Cross-validation score\")\n",
    "\n",
    "plt.legend(loc=\"best\")\n",
    "\n",
    "\n",
    "plt.show()"
   ]
  },
  {
   "cell_type": "markdown",
   "metadata": {},
   "source": [
    "## NB"
   ]
  },
  {
   "cell_type": "code",
   "execution_count": 46,
   "metadata": {},
   "outputs": [
    {
     "data": {
      "text/plain": [
       "GaussianNB(priors=None, var_smoothing=1e-09)"
      ]
     },
     "execution_count": 46,
     "metadata": {},
     "output_type": "execute_result"
    }
   ],
   "source": [
    "#Using NB classifier\n",
    "from sklearn.naive_bayes import GaussianNB\n",
    "nb = GaussianNB()\n",
    "nb.fit(X1_train, y1_train)"
   ]
  },
  {
   "cell_type": "code",
   "execution_count": 47,
   "metadata": {},
   "outputs": [
    {
     "name": "stdout",
     "output_type": "stream",
     "text": [
      "Number of mislabeled points out of a total 519 points :123\n",
      "Training Accuracy:  0.7766749379652605\n",
      "Testing Accuracy:  0.7630057803468208\n",
      "Cross-Validation Score :0.754\n",
      "\n",
      " [[332  17   1   8]\n",
      " [ 36  36   5  41]\n",
      " [  1   5   4   9]\n",
      " [  0   0   0  24]] \n",
      "\n",
      "              precision    recall  f1-score   support\n",
      "\n",
      "           1       0.90      0.93      0.91       358\n",
      "           2       0.62      0.31      0.41       118\n",
      "           3       0.40      0.21      0.28        19\n",
      "           4       0.29      1.00      0.45        24\n",
      "\n",
      "    accuracy                           0.76       519\n",
      "   macro avg       0.55      0.61      0.51       519\n",
      "weighted avg       0.79      0.76      0.75       519\n",
      "\n"
     ]
    }
   ],
   "source": [
    "from sklearn.naive_bayes import GaussianNB\n",
    "gnb = GaussianNB()\n",
    "y1_pred = gnb.fit(X1_train, y1_train).predict(X1_test)\n",
    "f1_gnb = f1_score(y1_test,y1_pred, average='micro')\n",
    "\n",
    "print(\"Number of mislabeled points out of a total {0} points :{1}\".format(X1_test.shape[0],(y1_test != y1_pred).sum()))\n",
    "\n",
    "print(\"Training Accuracy: \",gnb.score(X1_train, y1_train))\n",
    "print(\"Testing Accuracy: \", gnb.score(X1_test, y1_test))\n",
    "print(\"Cross-Validation Score :{0:.3f}\".format(np.mean(cross_val_score(gnb, X1, y1, cv=5))))\n",
    "\n",
    "cm = confusion_matrix(y1_test, y1_pred)\n",
    "print('\\n',cm,'\\n')\n",
    "print(classification_report(y1_test,y1_pred))"
   ]
  },
  {
   "cell_type": "markdown",
   "metadata": {},
   "source": [
    "## Decision Tree"
   ]
  },
  {
   "cell_type": "markdown",
   "metadata": {},
   "source": [
    "### Find Hyperparameter"
   ]
  },
  {
   "cell_type": "code",
   "execution_count": 48,
   "metadata": {},
   "outputs": [
    {
     "data": {
      "text/plain": [
       "Text(0, 0.5, 'accuracy')"
      ]
     },
     "execution_count": 48,
     "metadata": {},
     "output_type": "execute_result"
    },
    {
     "data": {
      "image/png": "[encoded data removed]",
      "text/plain": [
       "<Figure size 576x360 with 1 Axes>"
      ]
     },
     "metadata": {
      "needs_background": "light"
     },
     "output_type": "display_data"
    }
   ],
   "source": [
    "# Plot max_depth vs accuracy\n",
    "\n",
    "from sklearn.tree import DecisionTreeClassifier\n",
    "\n",
    "avg_train=[]\n",
    "avg_test=[]\n",
    "\n",
    "for max_depth in range(2,11):\n",
    "    dtree = DecisionTreeClassifier(max_depth=max_depth)\n",
    "    train_score=cross_val_score(dtree,X1_train,y1_train,cv=5,scoring='accuracy')\n",
    "    test_score =cross_val_score(dtree,X1_test,y1_test,cv=5,scoring='accuracy')\n",
    "    avg_train.append(train_score.mean())\n",
    "    avg_test.append(test_score.mean())\n",
    "    \n",
    "plt.figure(figsize=(8,5))\n",
    "plt.plot(range(2,11), avg_train,color=\"r\",label=\"Training score\")\n",
    "plt.plot(range(2,11), avg_test, color=\"g\", label=\"Test score\")\n",
    "plt.legend()\n",
    "plt.xlabel(\"max_depth\")\n",
    "plt.ylabel(\"accuracy\")\n"
   ]
  },
  {
   "cell_type": "markdown",
   "metadata": {},
   "source": [
    "Max depth of 9 looks to be a balanced cutoff point"
   ]
  },
  {
   "cell_type": "markdown",
   "metadata": {},
   "source": [
    "### Fit the model"
   ]
  },
  {
   "cell_type": "code",
   "execution_count": 49,
   "metadata": {},
   "outputs": [
    {
     "data": {
      "text/plain": [
       "DecisionTreeClassifier(class_weight=None, criterion='gini', max_depth=9,\n",
       "                       max_features=None, max_leaf_nodes=None,\n",
       "                       min_impurity_decrease=0.0, min_impurity_split=None,\n",
       "                       min_samples_leaf=1, min_samples_split=2,\n",
       "                       min_weight_fraction_leaf=0.0, presort=False,\n",
       "                       random_state=0, splitter='best')"
      ]
     },
     "execution_count": 49,
     "metadata": {},
     "output_type": "execute_result"
    }
   ],
   "source": [
    "#Trying decision tree classifier\n",
    "dtree = DecisionTreeClassifier(random_state = 0, max_depth=9)\n",
    "dtree.fit(X1_train, y1_train)"
   ]
  },
  {
   "cell_type": "code",
   "execution_count": 50,
   "metadata": {},
   "outputs": [
    {
     "name": "stdout",
     "output_type": "stream",
     "text": [
      "Training Accuracy:  0.9842845326716294\n",
      "Testing Accuracy:  0.9556840077071291\n",
      "\n",
      " [[352   6   0   0]\n",
      " [  6 105   6   1]\n",
      " [  0   0  17   2]\n",
      " [  0   0   2  22]] \n",
      "\n",
      "              precision    recall  f1-score   support\n",
      "\n",
      "           1       0.98      0.98      0.98       358\n",
      "           2       0.95      0.89      0.92       118\n",
      "           3       0.68      0.89      0.77        19\n",
      "           4       0.88      0.92      0.90        24\n",
      "\n",
      "    accuracy                           0.96       519\n",
      "   macro avg       0.87      0.92      0.89       519\n",
      "weighted avg       0.96      0.96      0.96       519\n",
      "\n"
     ]
    }
   ],
   "source": [
    "y1_pred = dtree.predict(X1_test)\n",
    "F1_dtree = f1_score(y1_test,y1_pred, average='micro')\n",
    " \n",
    "print(\"Training Accuracy: \",dtree.score(X1_train, y1_train))\n",
    "print(\"Testing Accuracy: \", dtree.score(X1_test, y1_test))\n",
    "\n",
    "cm = confusion_matrix(y1_test, y1_pred)\n",
    "print('\\n',cm,'\\n')\n",
    "print(classification_report(y1_test,y1_pred))"
   ]
  },
  {
   "cell_type": "markdown",
   "metadata": {},
   "source": [
    "## Random Forest "
   ]
  },
  {
   "cell_type": "markdown",
   "metadata": {},
   "source": [
    "### Try a Basic Model"
   ]
  },
  {
   "cell_type": "code",
   "execution_count": 51,
   "metadata": {
    "collapsed": false,
    "jupyter": {
     "outputs_hidden": false
    }
   },
   "outputs": [
    {
     "name": "stdout",
     "output_type": "stream",
     "text": [
      "Training Accuracy:  1.0\n",
      "Testing Accuracy:  0.9402697495183044\n"
     ]
    }
   ],
   "source": [
    "from sklearn.ensemble import RandomForestClassifier\n",
    "\n",
    "rfc=RandomForestClassifier(random_state=51)\n",
    "\n",
    "rfc.fit(X1_train,y1_train)\n",
    "y1_pred = rfc.predict(X1_test)\n",
    "\n",
    "print(\"Training Accuracy: \",rfc.score(X1_train, y1_train))\n",
    "print(\"Testing Accuracy: \", rfc.score(X1_test, y1_test))"
   ]
  },
  {
   "cell_type": "markdown",
   "metadata": {},
   "source": [
    "So, the basic model of RFC is giving 94% accuracy, but training score is clearly overfit. Now, check the effect of n_estimators on the model"
   ]
  },
  {
   "cell_type": "markdown",
   "metadata": {},
   "source": [
    "### Fine Tune Hyperparameter"
   ]
  },
  {
   "cell_type": "code",
   "execution_count": 52,
   "metadata": {
    "collapsed": false,
    "jupyter": {
     "outputs_hidden": false
    }
   },
   "outputs": [
    {
     "data": {
      "text/plain": [
       "Text(0.5, 1.0, 'number of trees vs Accuracy Plot')"
      ]
     },
     "execution_count": 52,
     "metadata": {},
     "output_type": "execute_result"
    },
    {
     "data": {
      "image/png": "[encoded data removed]",
      "text/plain": [
       "<Figure size 432x288 with 1 Axes>"
      ]
     },
     "metadata": {
      "needs_background": "light"
     },
     "output_type": "display_data"
    }
   ],
   "source": [
    "# Plot number of trees vs accuracy\n",
    "n_tree=[10,25,50,100]\n",
    "curve = validation_curve(rfc,X1_train,y1_train,cv=5,param_name='n_estimators',\n",
    "                         param_range=n_tree)\n",
    "train_score=[curve[0][i].mean() for i in range (0,len(n_tree))]\n",
    "test_score=[curve[1][i].mean() for i in range (0,len(n_tree))]\n",
    "\n",
    "f,ax=plt.subplots(1)\n",
    "plt.plot(n_tree,train_score)\n",
    "plt.plot(n_tree,test_score)\n",
    "plt.xticks=n_tree\n",
    "\n",
    "plt.xlabel(\"n_estimators\")\n",
    "plt.ylabel(\"accuracy\")\n",
    "plt.title(\"number of trees vs Accuracy Plot\")\n",
    "#ax.set_ylim(0.8,1.1)\n"
   ]
  },
  {
   "cell_type": "markdown",
   "metadata": {},
   "source": [
    "So, with the increasing n_estimators, test accuracy is increasing. Model is evaluating best at n_estimators=50. After n_estimators = 50, model starts overfitting.\n",
    "Now, we've reached approx. 97.1% accuracy."
   ]
  },
  {
   "cell_type": "markdown",
   "metadata": {},
   "source": [
    "Now, check how the model fits for various values of 'max_features'"
   ]
  },
  {
   "cell_type": "code",
   "execution_count": 54,
   "metadata": {},
   "outputs": [
    {
     "data": {
      "text/plain": [
       "RandomForestClassifier(bootstrap=True, class_weight=None, criterion='gini',\n",
       "                       max_depth=None, max_features='auto', max_leaf_nodes=None,\n",
       "                       min_impurity_decrease=0.0, min_impurity_split=None,\n",
       "                       min_samples_leaf=1, min_samples_split=2,\n",
       "                       min_weight_fraction_leaf=0.0, n_estimators=50,\n",
       "                       n_jobs=None, oob_score=False, random_state=51, verbose=0,\n",
       "                       warm_start=False)"
      ]
     },
     "execution_count": 54,
     "metadata": {},
     "output_type": "execute_result"
    }
   ],
   "source": [
    "rfc = RandomForestClassifier(n_estimators=50,random_state=51)\n",
    "rfc.fit(X1_train,y1_train)"
   ]
  },
  {
   "cell_type": "code",
   "execution_count": 55,
   "metadata": {
    "collapsed": false,
    "jupyter": {
     "outputs_hidden": false
    }
   },
   "outputs": [
    {
     "data": {
      "text/plain": [
       "Text(0.5, 1.0, 'validation_curve of random forest with 50 trees')"
      ]
     },
     "execution_count": 55,
     "metadata": {},
     "output_type": "execute_result"
    },
    {
     "data": {
      "image/png": "[encoded data removed]",
      "text/plain": [
       "<Figure size 360x360 with 1 Axes>"
      ]
     },
     "metadata": {
      "needs_background": "light"
     },
     "output_type": "display_data"
    }
   ],
   "source": [
    "param_range=range(1,len(X1.columns)+1)\n",
    "curve=validation_curve(RandomForestClassifier(n_estimators=50,random_state=51),X1_train,y1_train,cv=5,\n",
    "    param_name='max_features',param_range=param_range)\n",
    "\n",
    "train_score=[curve[0][i].mean() for i in range (0,len(param_range))]\n",
    "test_score=[curve[1][i].mean() for i in range (0,len(param_range))]\n",
    "f, ax = plt.subplots(1,figsize=(5,5))\n",
    "plt.plot(param_range,train_score, label='training')\n",
    "plt.plot(param_range,test_score,label='test')\n",
    "plt.xticks=param_range\n",
    "#ax.set_ylim(0.96,1.01)\n",
    "plt.legend()\n",
    "plt.title('validation_curve of random forest with 50 trees')"
   ]
  },
  {
   "cell_type": "markdown",
   "metadata": {},
   "source": [
    "From above graph, it is clear that model is giving best resut for max_features=5. Still the model is overfitting.\n",
    "\n",
    "Now we've reached 97.2% accuracy approx."
   ]
  },
  {
   "cell_type": "markdown",
   "metadata": {},
   "source": [
    "We can also check of other parameters like 'max_depth','criterion',etc using above code.Another simple way is to use GridSearch to get combination of best parameters. As this dataset is small, GridSearch will take less time to complete."
   ]
  },
  {
   "cell_type": "code",
   "execution_count": 56,
   "metadata": {},
   "outputs": [
    {
     "name": "stderr",
     "output_type": "stream",
     "text": [
      "/Users/xueni/anaconda3/lib/python3.7/site-packages/sklearn/model_selection/_search.py:814: DeprecationWarning:\n",
      "\n",
      "The default of the `iid` parameter will change from True to False in version 0.22 and will be removed in 0.24. This will change numeric results when test-set sizes are unequal.\n",
      "\n"
     ]
    },
    {
     "name": "stdout",
     "output_type": "stream",
     "text": [
      "{'criterion': 'entropy', 'max_depth': 20, 'max_features': 6, 'max_leaf_nodes': None}\n",
      "0.9859387923904053\n"
     ]
    },
    {
     "name": "stderr",
     "output_type": "stream",
     "text": [
      "/Users/xueni/anaconda3/lib/python3.7/site-packages/sklearn/model_selection/_search.py:814: DeprecationWarning:\n",
      "\n",
      "The default of the `iid` parameter will change from True to False in version 0.22 and will be removed in 0.24. This will change numeric results when test-set sizes are unequal.\n",
      "\n"
     ]
    }
   ],
   "source": [
    "param_grid={'criterion':['gini','entropy'],\n",
    "           'max_depth':[2,5,10,20],\n",
    "           'max_features':[2,4,5,6,'auto'],\n",
    "           'max_leaf_nodes':[2,3,None],}\n",
    "\n",
    "grid=GridSearchCV(estimator=RandomForestClassifier(n_estimators=50,random_state=51),\n",
    "                  param_grid=param_grid,cv=10)\n",
    "\n",
    "grid.fit(X1_train,y1_train)\n",
    "\n",
    "print(grid.best_params_)\n",
    "print(grid.best_score_)\n",
    "F1_rfc = f1_score(y1_test,grid.fit(X1_train,y1_train).predict(X1_test), average='micro')"
   ]
  },
  {
   "cell_type": "markdown",
   "metadata": {},
   "source": [
    "So, with above parameters for random forest model, we've reached 98.6% accuracy."
   ]
  },
  {
   "cell_type": "code",
   "execution_count": 57,
   "metadata": {
    "collapsed": false,
    "jupyter": {
     "outputs_hidden": false
    }
   },
   "outputs": [
    {
     "data": {
      "text/plain": [
       "[<matplotlib.lines.Line2D at 0x1274e0390>]"
      ]
     },
     "execution_count": 57,
     "metadata": {},
     "output_type": "execute_result"
    },
    {
     "data": {
      "image/png": "[encoded data removed]",
      "text/plain": [
       "<Figure size 432x288 with 1 Axes>"
      ]
     },
     "metadata": {
      "needs_background": "light"
     },
     "output_type": "display_data"
    }
   ],
   "source": [
    "curve=learning_curve(RandomForestClassifier(n_estimators=50,\n",
    "                                         criterion='entropy',\n",
    "                                         max_features=6,\n",
    "                                         max_depth=20,\n",
    "                                         random_state=51,max_leaf_nodes=None),\n",
    "                  X1_train,y1_train, cv=5)\n",
    "\n",
    "size=curve[0]\n",
    "train_score=[curve[1][i].mean() for i in range (0,5)]\n",
    "test_score=[curve[2][i].mean() for i in range (0,5)]\n",
    "fig=plt.figure(figsize=(6,4))\n",
    "plt.plot(size,train_score)\n",
    "plt.plot(size,test_score)"
   ]
  },
  {
   "cell_type": "markdown",
   "metadata": {},
   "source": [
    "##### Model is overfitting as train accuracy is 1 ,but test accuracy is much less.\n",
    "I've already tried changing RFC parameters to tackle overfitting. But, still it is not reduced.To reduce variance, we can\n",
    "1. Increase number of samples. (It is clear from above graph that incresing number of samples will improve model)\n",
    "2. Reduce number of features"
   ]
  },
  {
   "cell_type": "markdown",
   "metadata": {},
   "source": [
    "#### Feature Reduction"
   ]
  },
  {
   "cell_type": "code",
   "execution_count": 223,
   "metadata": {
    "collapsed": false,
    "jupyter": {
     "outputs_hidden": false
    }
   },
   "outputs": [
    {
     "name": "stdout",
     "output_type": "stream",
     "text": [
      "     buying     maint     doors  capacity  lug_boot    safety\n",
      "0  0.154819  0.151853  0.059702  0.251283  0.094677  0.287667\n"
     ]
    }
   ],
   "source": [
    "feature_import = pd.DataFrame([rfc.feature_importances_], columns=X1.columns)\n",
    "\n",
    "print(feature_import)"
   ]
  },
  {
   "cell_type": "markdown",
   "metadata": {},
   "source": [
    "From feature importances, it is clear that 'doors' feature is least important.\n",
    "So, train our model excluding that feature."
   ]
  },
  {
   "cell_type": "code",
   "execution_count": 58,
   "metadata": {},
   "outputs": [],
   "source": [
    "X1_train_new, X1_test_new, y1_train_new, y1_test_new = train_test_split(\n",
    "    X1[['buying', 'maint', 'capacity', 'lug_boot', 'safety']],\n",
    "    y1, test_size=0.3, random_state=42)"
   ]
  },
  {
   "cell_type": "code",
   "execution_count": 59,
   "metadata": {
    "collapsed": false,
    "jupyter": {
     "outputs_hidden": false
    }
   },
   "outputs": [
    {
     "data": {
      "text/plain": [
       "0.930635838150289"
      ]
     },
     "execution_count": 59,
     "metadata": {},
     "output_type": "execute_result"
    }
   ],
   "source": [
    "rfc1=RandomForestClassifier(n_estimators=50,criterion='entropy',max_features=4,max_depth=10,random_state=51,\n",
    "    max_leaf_nodes=None)\n",
    "rfc1.fit(X1_train_new,y1_train_new)\n",
    "\n",
    "rfc1.score(X1_test_new,y1_test_new)"
   ]
  },
  {
   "cell_type": "markdown",
   "metadata": {},
   "source": [
    "Our data already has less features and even if we drop the least important feature, then also the accuracy is reducing to 93.06%\n",
    "\n",
    "So, dropping a feature is not an option to reduce variance in our model.The only option we are left with is to get more data."
   ]
  },
  {
   "cell_type": "markdown",
   "metadata": {},
   "source": [
    "Conclusion:\n",
    "Random Forest Classifier is the best suitable model for this data with following parameters:\n",
    "n_estimators: 50\n",
    "criterion: entropy\n",
    "max_depth: 10\n",
    "max_features: 4\n",
    "max_leaf_nodes: None\n",
    "\n",
    "We are able to achieve 98.6% accuracy with this model"
   ]
  },
  {
   "cell_type": "markdown",
   "metadata": {},
   "source": [
    "# Model Evaluation"
   ]
  },
  {
   "cell_type": "code",
   "execution_count": 60,
   "metadata": {},
   "outputs": [
    {
     "data": {
      "image/png": "[encoded data removed]",
      "text/plain": [
       "<Figure size 432x288 with 1 Axes>"
      ]
     },
     "metadata": {
      "needs_background": "light"
     },
     "output_type": "display_data"
    }
   ],
   "source": [
    "models=['rbf SVC','Logistic Regression','Decision Tree','Naive Bayes','Random Forest']\n",
    "f1 = np.array([f1_SVC_rbf, f1_LR, F1_dtree,f1_gnb,F1_rfc])\n",
    "\n",
    "y_pos = np.arange(len(models))\n",
    "plt.barh(y_pos, f1)\n",
    "plt.yticks(y_pos, ('rbf SVC','Logistic Regression','Decision Tree','Naive Bayes','Random Forest'))\n",
    "plt.show()"
   ]
  },
  {
   "cell_type": "code",
   "execution_count": 61,
   "metadata": {},
   "outputs": [
    {
     "data": {
      "text/html": [
       "<div>\n",
       "<style scoped>\n",
       "    .dataframe tbody tr th:only-of-type {\n",
       "        vertical-align: middle;\n",
       "    }\n",
       "\n",
       "    .dataframe tbody tr th {\n",
       "        vertical-align: top;\n",
       "    }\n",
       "\n",
       "    .dataframe thead th {\n",
       "        text-align: right;\n",
       "    }\n",
       "</style>\n",
       "<table border=\"1\" class=\"dataframe\">\n",
       "  <thead>\n",
       "    <tr style=\"text-align: right;\">\n",
       "      <th></th>\n",
       "      <th>rbf SVC</th>\n",
       "      <th>Logistic Regression</th>\n",
       "      <th>Decision Tree</th>\n",
       "      <th>Naive Bayes</th>\n",
       "      <th>Random Forest</th>\n",
       "    </tr>\n",
       "  </thead>\n",
       "  <tbody>\n",
       "    <tr>\n",
       "      <th>0</th>\n",
       "      <td>0.974952</td>\n",
       "      <td>0.811175</td>\n",
       "      <td>0.955684</td>\n",
       "      <td>0.763006</td>\n",
       "      <td>0.971098</td>\n",
       "    </tr>\n",
       "  </tbody>\n",
       "</table>\n",
       "</div>"
      ],
      "text/plain": [
       "    rbf SVC  Logistic Regression  Decision Tree  Naive Bayes  Random Forest\n",
       "0  0.974952             0.811175       0.955684     0.763006       0.971098"
      ]
     },
     "execution_count": 61,
     "metadata": {},
     "output_type": "execute_result"
    }
   ],
   "source": [
    "score = pd.DataFrame([f1],columns=models)\n",
    "score"
   ]
  },
  {
   "cell_type": "markdown",
   "metadata": {},
   "source": [
    "__Conclusion__\n",
    "rbf SVM Classifier and Random Forest Classifier are roughly equally suitable models for this classification context, however, be aware that Random Forest tends to show overfitting, and accuary won't get better with trees growing or features reduction. \n",
    "\n",
    "We are able to achieve 98.6% weighted accuracy with this model"
   ]
  },
  {
   "cell_type": "markdown",
   "metadata": {},
   "source": [
    "-- END --"
   ]
  }
 ],
 "metadata": {
  "kernel_info": {
   "name": "python3"
  },
  "kernelspec": {
   "display_name": "Python 3",
   "language": "python",
   "name": "python3"
  },
  "language_info": {
   "codemirror_mode": {
    "name": "ipython",
    "version": 3
   },
   "file_extension": ".py",
   "mimetype": "text/x-python",
   "name": "python",
   "nbconvert_exporter": "python",
   "pygments_lexer": "ipython3",
   "version": "3.7.5"
  },
  "latex_envs": {
   "LaTeX_envs_menu_present": true,
   "autoclose": false,
   "autocomplete": true,
   "bibliofile": "biblio.bib",
   "cite_by": "apalike",
   "current_citInitial": 1,
   "eqLabelWithNumbers": true,
   "eqNumInitial": 1,
   "hotkeys": {
    "equation": "Ctrl-E",
    "itemize": "Ctrl-I"
   },
   "labels_anchors": false,
   "latex_user_defs": false,
   "report_style_numbering": false,
   "user_envs_cfg": false
  },
  "nteract": {
   "version": "0.15.0"
  },
  "toc": {
   "base_numbering": 1,
   "nav_menu": {},
   "number_sections": false,
   "sideBar": true,
   "skip_h1_title": false,
   "title_cell": "Table of Contents",
   "title_sidebar": "Contents",
   "toc_cell": false,
   "toc_position": {
    "height": "calc(100% - 180px)",
    "left": "10px",
    "top": "150px",
    "width": "288px"
   },
   "toc_section_display": true,
   "toc_window_display": true
  }
 },
 "nbformat": 4,
 "nbformat_minor": 4
}
